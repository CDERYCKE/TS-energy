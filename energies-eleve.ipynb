{
 "cells": [
  {
   "cell_type": "markdown",
   "source": [
    "# CH5 - Tracé de l'évolution des énergies avec Python"
   ],
   "metadata": {}
  },
  {
   "cell_type": "markdown",
   "source": [
    "Pour cette partie, on utilise le pointage effectué sur la lancer du ballon de basket pour étudier l'évolution des énergies au cours du temps."
   ],
   "metadata": {}
  },
  {
   "cell_type": "markdown",
   "source": [
    "<div class=\"alert alert-info\" role=\"alert\">\n",
    "  <strong>Travail à faire sur le notebook : </strong> <br>\n",
    "    Pour les cellules de code suivantes, appuyez sur shift entrée pour lancer le code Python contenu dans chaque cellule\n",
    "</div>"
   ],
   "metadata": {}
  },
  {
   "cell_type": "code",
   "execution_count": 1,
   "source": [
    "import matplotlib.pyplot as plt # pour le tracé des graphiques"
   ],
   "outputs": [],
   "metadata": {}
  },
  {
   "cell_type": "markdown",
   "source": [
    "On commence par importer les données stockées dans un fichier appelé pointage.txt et situé dans le même dossier que le script python"
   ],
   "metadata": {}
  },
  {
   "cell_type": "code",
   "execution_count": 2,
   "source": [
    "# On crée 3 listes pour stocker les données du pointage\n",
    "x=[]\n",
    "y=[]\n",
    "t=[]\n",
    "\n",
    "with open(\"pointage.txt\") as file:\n",
    "    lines = file.readlines()[1:] # attention readlines ! pour lire toutes les lignes et 1: pour enlever la première ligne\n",
    "    for line in lines:\n",
    "        elements = line.split(\";\")\n",
    "        t.append(float(elements[0]))\n",
    "        x.append(float(elements[1]))\n",
    "        y.append(float(elements[3]))# pas de ligne 2 car le temps apparait 2 fois\n",
    "        line = file.readline()\n",
    "\n",
    "# On a ainsi récupéré 3 listes contenant les données."
   ],
   "outputs": [],
   "metadata": {}
  },
  {
   "cell_type": "markdown",
   "source": [
    "On va alors calculer les valeurs des vitesses $v_x $ et $ v_y $ :  \n",
    "Avec la méthode symétrique il s'agit de calculer la variation de position divisé par la durée."
   ],
   "metadata": {}
  },
  {
   "cell_type": "code",
   "execution_count": 3,
   "source": [
    "# Calcul des coordonnées du vecteur vitesse\n",
    "# on crée les listes pour stocker les vitesses et la hauteur\n",
    "Vx = []\n",
    "Vy = []\n",
    "h=[]\n",
    "\n",
    "nb_points = len(t) # permet de connaitre le nombre de points de pointage"
   ],
   "outputs": [],
   "metadata": {}
  },
  {
   "cell_type": "markdown",
   "source": [
    "<div class=\"alert alert-warning\" role=\"alert\">\n",
    "    <strong> Travail à faire sur la fiche réponse : </strong> <br>\n",
    "    --> Répondre aux questions posées <br>\n",
    "    --> Compléter le code Python ci-dessous <br>\n",
    "</div>"
   ],
   "metadata": {}
  },
  {
   "cell_type": "code",
   "execution_count": 4,
   "source": [
    "# début de la boucle pour calculer les vitesses horizontale et verticale\n",
    "for i in range(1,nb_points-1): # sans le premier ni le dernier  point \n",
    "    vitesse_x = (x[i+1]-x[????]) / (t[i+1] - t[????])\n",
    "    Vx.append(vitesse_x) # ajoute la vitesse calculée à la liste des vitesses\n",
    "    vitesse_y = (y[i+1]-y[i-1]) / (t[i+1] - t[i-1])\n",
    "    Vy.append(vitesse_y)\n",
    "    hauteur=y[i]-y[0] # le -y0 permet d'avoir une énergie potentielle de pesanteur nulle au moment du lancer\n",
    "    h.append(hauteur)\n"
   ],
   "outputs": [],
   "metadata": {}
  },
  {
   "cell_type": "markdown",
   "source": [
    "On va maintenant créer des listes contenant les valeurs des énergies en fonction du temps."
   ],
   "metadata": {}
  },
  {
   "cell_type": "markdown",
   "source": [
    "<div class=\"alert alert-warning\" role=\"alert\">\n",
    "    <strong> Travail à faire sur la fiche réponse : </strong> <br>\n",
    "    --> Répondre aux questions posées <br>\n",
    "    --> Compléter le code Python ci-dessous <br>\n",
    "</div>"
   ],
   "metadata": {}
  },
  {
   "cell_type": "code",
   "execution_count": 5,
   "source": [
    "\n",
    "# On crée les variables contenant les données du problème\n",
    "m= 0.597# masse du ballon en kg\n",
    "g = 9.8 # intensité de la pesanteur sur Terre\n",
    "\n",
    "# Obtention des listes contenant les valeurs des énergies\n",
    "Ecin=[] # on crée des listes vides\n",
    "Epp=[]\n",
    "Emec=[]\n",
    "\n",
    "for i in range(0,nb_points-2): # il y a deux vitesses non calculables : la première et la dernière \n",
    "    Ec_i=??????\n",
    "    Ecin.append(Ec_i)\n",
    "    Epp_i=??????\n",
    "    Epp.append(Epp_i)\n",
    "    Emec_i=???????\n",
    "    Emec.append(Emec_i)\n",
    "\n"
   ],
   "outputs": [],
   "metadata": {}
  },
  {
   "cell_type": "markdown",
   "source": [
    "Il nous reste à tracer l'évolution des énergies au cours du temps."
   ],
   "metadata": {}
  },
  {
   "cell_type": "code",
   "execution_count": 6,
   "source": [
    "\n",
    "# Tracé du graphique\n",
    "plt.xlim(-1,14)\n",
    "plt.plot(x[1:-1],Ecin, 'r',label=\"Ecin\") # x[1:-1] permet d'enlever la première et la dernière valeur de x\n",
    "plt.plot(x[1:-1],Epp, 'b',label=\"Epp\")\n",
    "plt.plot(x[1:-1],Emec, 'g',label=\"Emec\")\n",
    "\n",
    "\n",
    "plt.title(\"Evolution des énergies lors du lancer\")\n",
    "\n",
    "plt.xlabel(\" position selon x (en m)\")\n",
    "plt.ylabel(\" Energies (en J)\")\n",
    "\n",
    "# afficher le graphe\n",
    "plt.show()\n"
   ],
   "outputs": [
    {
     "output_type": "display_data",
     "data": {
      "image/png": "[encoded data removed]",
      "text/plain": [
       "<Figure size 432x288 with 1 Axes>"
      ]
     },
     "metadata": {
      "needs_background": "light"
     }
    }
   ],
   "metadata": {}
  },
  {
   "cell_type": "markdown",
   "source": [
    "On peut alors répondre aux questions du TP."
   ],
   "metadata": {}
  },
  {
   "cell_type": "code",
   "execution_count": null,
   "source": [],
   "outputs": [],
   "metadata": {}
  }
 ],
 "metadata": {
  "orig_nbformat": 4,
  "language_info": {
   "name": "python",
   "version": "3.7.9",
   "mimetype": "text/x-python",
   "codemirror_mode": {
    "name": "ipython",
    "version": 3
   },
   "pygments_lexer": "ipython3",
   "nbconvert_exporter": "python",
   "file_extension": ".py"
  },
  "kernelspec": {
   "name": "python3",
   "display_name": "Python 3.7.9 64-bit ('base': conda)"
  },
  "interpreter": {
   "hash": "9d311be38aaab6724ddcc1832584b56442275a7a0d238cffc2dc15b24c65af3c"
  }
 },
 "nbformat": 4,
 "nbformat_minor": 2
}